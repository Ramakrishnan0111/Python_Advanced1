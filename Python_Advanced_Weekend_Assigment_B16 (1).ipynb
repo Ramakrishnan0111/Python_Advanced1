{
 "cells": [
  {
   "cell_type": "code",
   "execution_count": 2,
   "metadata": {},
   "outputs": [],
   "source": [
    "#UseCase 1:\n",
    "==========\n",
    "\n",
    "Resturant: \n",
    "==========\n",
    "\n",
    "Make a class called Restaurant. The __init__() method for Restaurant should store two attributes: \n",
    "a restaurant_name and a cuisine_type. \n",
    "Make a method called describe_restaurant() that prints these two pieces of information,\n",
    "and a method called open_restaurant() that prints a message indicating that the restaurant is open.\n",
    "Make an instance called restaurant from your class. \n",
    "Print the two attributes individually, and then call both methods.\n",
    "\n"
   ]
  },
  {
   "cell_type": "code",
   "execution_count": 129,
   "metadata": {},
   "outputs": [],
   "source": [
    "class Restaurant:\n",
    "\n",
    "    def __init__(self,restaurant_name,cuisine_type):\n",
    "        self.restuarant_name=restaurant_name\n",
    "        self.cuisine_type=cuisine_type\n",
    "        \n",
    "    \n",
    "    def describe_restaurant(self):\n",
    "        \n",
    "            print(f\"Restaurant Name : {self.restuarant_name.upper()}\\nCuisine Type    : {self.cuisine_type.upper()}\" )\n",
    "    \n",
    "    def open_restaurant(self):\n",
    "\n",
    "        print(f\"Restaurant {self.restuarant_name.upper()} is 'OPEN' Now Enjoy Your Food\" )\n",
    "    \n",
    "\n",
    "\n"
   ]
  },
  {
   "cell_type": "code",
   "execution_count": 147,
   "metadata": {},
   "outputs": [
    {
     "name": "stdout",
     "output_type": "stream",
     "text": [
      "SUSHI\n",
      "JAPANESE\n"
     ]
    }
   ],
   "source": [
    "restaurant=Restaurant(\"sushi\",\"Japanese\")\n",
    "\n",
    "print(restaurant.restuarant_name.upper())\n",
    "\n",
    "print(restaurant.cuisine_type.upper())\n"
   ]
  },
  {
   "cell_type": "code",
   "execution_count": 131,
   "metadata": {},
   "outputs": [
    {
     "name": "stdout",
     "output_type": "stream",
     "text": [
      "Restaurant Name : SUSHI\n",
      "Cuisine Type    : JAPANESE\n"
     ]
    }
   ],
   "source": [
    "restaurant.describe_restaurant()\n"
   ]
  },
  {
   "cell_type": "code",
   "execution_count": 132,
   "metadata": {},
   "outputs": [
    {
     "name": "stdout",
     "output_type": "stream",
     "text": [
      "Restaurant SUSHI is 'OPEN' Now Enjoy Your Food\n"
     ]
    }
   ],
   "source": [
    "restaurant.open_restaurant()\n"
   ]
  },
  {
   "cell_type": "code",
   "execution_count": null,
   "metadata": {},
   "outputs": [],
   "source": [
    "#UseCase 2:\n",
    "==========\n",
    "\n",
    "Ice Cream Stand: \n",
    "==========\n",
    "\n",
    "An ice cream stand is a specific kind of restaurant. \n",
    "Write a class called IceCreamStand that inherits from the Restaurant class you wrote above.\n",
    "Add an attribute called flavors that stores a list of ice cream flavors.\n",
    "Write a method that displays these flavors.\n",
    "Create an instance of IceCreamStand, and call this method. \n"
   ]
  },
  {
   "cell_type": "code",
   "execution_count": 167,
   "metadata": {},
   "outputs": [],
   "source": [
    "class IceCreamStand(Restaurant):\n",
    "    \n",
    "        def __init__(self,name,cuisine_type='Ice_cream'):\n",
    "              self.flavors = []\n",
    "       \n",
    "        \n",
    "        def flavors(self):\n",
    "            print(f\"Available Ice Cream Flavors are :\")\n",
    "            for flavors in self.flavors:\n",
    "                print(flavors)\n",
    "        \n",
    "    "
   ]
  },
  {
   "cell_type": "code",
   "execution_count": 168,
   "metadata": {},
   "outputs": [],
   "source": [
    "Ice=IceCreamStand('New')"
   ]
  },
  {
   "cell_type": "code",
   "execution_count": 169,
   "metadata": {},
   "outputs": [],
   "source": [
    "Ice.flavors = ['lackberry Ice Cream', 'Caramel Apple Ice Cream', 'Chocolate Chip Cookie Dough Ice Cream']"
   ]
  },
  {
   "cell_type": "code",
   "execution_count": 170,
   "metadata": {},
   "outputs": [
    {
     "ename": "TypeError",
     "evalue": "'list' object is not callable",
     "output_type": "error",
     "traceback": [
      "\u001b[1;31m---------------------------------------------------------------------------\u001b[0m",
      "\u001b[1;31mTypeError\u001b[0m                                 Traceback (most recent call last)",
      "\u001b[1;32m<ipython-input-170-7eda87890645>\u001b[0m in \u001b[0;36m<module>\u001b[1;34m\u001b[0m\n\u001b[1;32m----> 1\u001b[1;33m \u001b[0mIce\u001b[0m\u001b[1;33m.\u001b[0m\u001b[0mflavors\u001b[0m\u001b[1;33m(\u001b[0m\u001b[1;33m)\u001b[0m\u001b[1;33m\u001b[0m\u001b[1;33m\u001b[0m\u001b[0m\n\u001b[0m",
      "\u001b[1;31mTypeError\u001b[0m: 'list' object is not callable"
     ]
    }
   ],
   "source": [
    "Ice.flavors()"
   ]
  },
  {
   "cell_type": "code",
   "execution_count": null,
   "metadata": {},
   "outputs": [],
   "source": []
  },
  {
   "cell_type": "code",
   "execution_count": null,
   "metadata": {},
   "outputs": [],
   "source": []
  }
 ],
 "metadata": {
  "kernelspec": {
   "display_name": "Python 3",
   "language": "python",
   "name": "python3"
  },
  "language_info": {
   "codemirror_mode": {
    "name": "ipython",
    "version": 3
   },
   "file_extension": ".py",
   "mimetype": "text/x-python",
   "name": "python",
   "nbconvert_exporter": "python",
   "pygments_lexer": "ipython3",
   "version": "3.7.6"
  }
 },
 "nbformat": 4,
 "nbformat_minor": 4
}
